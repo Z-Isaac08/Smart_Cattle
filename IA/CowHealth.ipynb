{
 "cells": [
  {
   "cell_type": "markdown",
   "metadata": {
    "id": "dgg3anu0Xkwd"
   },
   "source": [
    "**Importations des dépendances**"
   ]
  },
  {
   "cell_type": "code",
   "execution_count": 2,
   "metadata": {
    "executionInfo": {
     "elapsed": 405,
     "status": "ok",
     "timestamp": 1737308901099,
     "user": {
      "displayName": "Isaac N'cho",
      "userId": "02200303180534399432"
     },
     "user_tz": 0
    },
    "id": "ZY7deoMvXcQU"
   },
   "outputs": [],
   "source": [
    "import numpy as np\n",
    "import pandas as pd\n",
    "from sklearn.preprocessing import StandardScaler\n",
    "from sklearn.model_selection import train_test_split\n",
    "from sklearn import svm\n",
    "from sklearn.metrics import accuracy_score"
   ]
  },
  {
   "cell_type": "markdown",
   "metadata": {
    "id": "3oS-Any5Xt20"
   },
   "source": [
    "**Collecte et analyse des données**"
   ]
  },
  {
   "cell_type": "code",
   "execution_count": 3,
   "metadata": {
    "colab": {
     "base_uri": "https://localhost:8080/",
     "height": 206
    },
    "executionInfo": {
     "elapsed": 326,
     "status": "ok",
     "timestamp": 1737309570757,
     "user": {
      "displayName": "Isaac N'cho",
      "userId": "02200303180534399432"
     },
     "user_tz": 0
    },
    "id": "o8m79jI-Xq_a",
    "outputId": "cb09bf36-de82-4f0d-d34a-ae4f833fb412"
   },
   "outputs": [
    {
     "data": {
      "text/html": [
       "<div>\n",
       "<style scoped>\n",
       "    .dataframe tbody tr th:only-of-type {\n",
       "        vertical-align: middle;\n",
       "    }\n",
       "\n",
       "    .dataframe tbody tr th {\n",
       "        vertical-align: top;\n",
       "    }\n",
       "\n",
       "    .dataframe thead th {\n",
       "        text-align: right;\n",
       "    }\n",
       "</style>\n",
       "<table border=\"1\" class=\"dataframe\">\n",
       "  <thead>\n",
       "    <tr style=\"text-align: right;\">\n",
       "      <th></th>\n",
       "      <th>body_temperature</th>\n",
       "      <th>walking_capacity</th>\n",
       "      <th>heart_rate</th>\n",
       "      <th>health_status</th>\n",
       "    </tr>\n",
       "  </thead>\n",
       "  <tbody>\n",
       "    <tr>\n",
       "      <th>0</th>\n",
       "      <td>38.2</td>\n",
       "      <td>12432</td>\n",
       "      <td>50</td>\n",
       "      <td>unhealthy</td>\n",
       "    </tr>\n",
       "    <tr>\n",
       "      <th>1</th>\n",
       "      <td>38.9</td>\n",
       "      <td>11987</td>\n",
       "      <td>62</td>\n",
       "      <td>healthy</td>\n",
       "    </tr>\n",
       "    <tr>\n",
       "      <th>2</th>\n",
       "      <td>38.6</td>\n",
       "      <td>13121</td>\n",
       "      <td>71</td>\n",
       "      <td>healthy</td>\n",
       "    </tr>\n",
       "    <tr>\n",
       "      <th>3</th>\n",
       "      <td>39.5</td>\n",
       "      <td>12055</td>\n",
       "      <td>68</td>\n",
       "      <td>unhealthy</td>\n",
       "    </tr>\n",
       "    <tr>\n",
       "      <th>4</th>\n",
       "      <td>39.7</td>\n",
       "      <td>10352</td>\n",
       "      <td>63</td>\n",
       "      <td>healthy</td>\n",
       "    </tr>\n",
       "  </tbody>\n",
       "</table>\n",
       "</div>"
      ],
      "text/plain": [
       "   body_temperature  walking_capacity  heart_rate health_status\n",
       "0              38.2             12432          50     unhealthy\n",
       "1              38.9             11987          62       healthy\n",
       "2              38.6             13121          71       healthy\n",
       "3              39.5             12055          68     unhealthy\n",
       "4              39.7             10352          63       healthy"
      ]
     },
     "execution_count": 3,
     "metadata": {},
     "output_type": "execute_result"
    }
   ],
   "source": [
    "vaches_dataset = pd.read_csv('data/cattle_dataset.csv')\n",
    "\n",
    "vaches_dataset.head()"
   ]
  },
  {
   "cell_type": "code",
   "execution_count": 4,
   "metadata": {
    "colab": {
     "base_uri": "https://localhost:8080/"
    },
    "executionInfo": {
     "elapsed": 353,
     "status": "ok",
     "timestamp": 1737309575241,
     "user": {
      "displayName": "Isaac N'cho",
      "userId": "02200303180534399432"
     },
     "user_tz": 0
    },
    "id": "9GYQ3wWaYaMQ",
    "outputId": "99248519-7ddb-4703-93ca-2260d5919c0a"
   },
   "outputs": [
    {
     "data": {
      "text/plain": [
       "(178, 4)"
      ]
     },
     "execution_count": 4,
     "metadata": {},
     "output_type": "execute_result"
    }
   ],
   "source": [
    "vaches_dataset.shape"
   ]
  },
  {
   "cell_type": "code",
   "execution_count": 5,
   "metadata": {
    "colab": {
     "base_uri": "https://localhost:8080/",
     "height": 300
    },
    "executionInfo": {
     "elapsed": 3,
     "status": "ok",
     "timestamp": 1737309576895,
     "user": {
      "displayName": "Isaac N'cho",
      "userId": "02200303180534399432"
     },
     "user_tz": 0
    },
    "id": "wm2xDrdYY6Y7",
    "outputId": "ae0ca241-09e6-40dc-808e-13a4e88171da"
   },
   "outputs": [
    {
     "data": {
      "text/html": [
       "<div>\n",
       "<style scoped>\n",
       "    .dataframe tbody tr th:only-of-type {\n",
       "        vertical-align: middle;\n",
       "    }\n",
       "\n",
       "    .dataframe tbody tr th {\n",
       "        vertical-align: top;\n",
       "    }\n",
       "\n",
       "    .dataframe thead th {\n",
       "        text-align: right;\n",
       "    }\n",
       "</style>\n",
       "<table border=\"1\" class=\"dataframe\">\n",
       "  <thead>\n",
       "    <tr style=\"text-align: right;\">\n",
       "      <th></th>\n",
       "      <th>body_temperature</th>\n",
       "      <th>walking_capacity</th>\n",
       "      <th>heart_rate</th>\n",
       "    </tr>\n",
       "  </thead>\n",
       "  <tbody>\n",
       "    <tr>\n",
       "      <th>count</th>\n",
       "      <td>178.000000</td>\n",
       "      <td>178.000000</td>\n",
       "      <td>178.000000</td>\n",
       "    </tr>\n",
       "    <tr>\n",
       "      <th>mean</th>\n",
       "      <td>39.011236</td>\n",
       "      <td>9303.179775</td>\n",
       "      <td>53.955056</td>\n",
       "    </tr>\n",
       "    <tr>\n",
       "      <th>std</th>\n",
       "      <td>0.872225</td>\n",
       "      <td>3237.390592</td>\n",
       "      <td>13.157808</td>\n",
       "    </tr>\n",
       "    <tr>\n",
       "      <th>min</th>\n",
       "      <td>35.500000</td>\n",
       "      <td>5004.000000</td>\n",
       "      <td>37.000000</td>\n",
       "    </tr>\n",
       "    <tr>\n",
       "      <th>25%</th>\n",
       "      <td>38.300000</td>\n",
       "      <td>6019.000000</td>\n",
       "      <td>42.000000</td>\n",
       "    </tr>\n",
       "    <tr>\n",
       "      <th>50%</th>\n",
       "      <td>38.900000</td>\n",
       "      <td>11203.000000</td>\n",
       "      <td>50.000000</td>\n",
       "    </tr>\n",
       "    <tr>\n",
       "      <th>75%</th>\n",
       "      <td>39.700000</td>\n",
       "      <td>12291.000000</td>\n",
       "      <td>63.000000</td>\n",
       "    </tr>\n",
       "    <tr>\n",
       "      <th>max</th>\n",
       "      <td>40.600000</td>\n",
       "      <td>13257.000000</td>\n",
       "      <td>83.000000</td>\n",
       "    </tr>\n",
       "  </tbody>\n",
       "</table>\n",
       "</div>"
      ],
      "text/plain": [
       "       body_temperature  walking_capacity  heart_rate\n",
       "count        178.000000        178.000000  178.000000\n",
       "mean          39.011236       9303.179775   53.955056\n",
       "std            0.872225       3237.390592   13.157808\n",
       "min           35.500000       5004.000000   37.000000\n",
       "25%           38.300000       6019.000000   42.000000\n",
       "50%           38.900000      11203.000000   50.000000\n",
       "75%           39.700000      12291.000000   63.000000\n",
       "max           40.600000      13257.000000   83.000000"
      ]
     },
     "execution_count": 5,
     "metadata": {},
     "output_type": "execute_result"
    }
   ],
   "source": [
    "vaches_dataset.describe()"
   ]
  },
  {
   "cell_type": "code",
   "execution_count": 6,
   "metadata": {
    "colab": {
     "base_uri": "https://localhost:8080/",
     "height": 178
    },
    "executionInfo": {
     "elapsed": 328,
     "status": "ok",
     "timestamp": 1737309579500,
     "user": {
      "displayName": "Isaac N'cho",
      "userId": "02200303180534399432"
     },
     "user_tz": 0
    },
    "id": "31xf7fKKZCd1",
    "outputId": "34e7f217-c0c5-4f0d-983e-4bc9b72e0cc0"
   },
   "outputs": [
    {
     "data": {
      "text/plain": [
       "health_status\n",
       "healthy      90\n",
       "unhealthy    88\n",
       "Name: count, dtype: int64"
      ]
     },
     "execution_count": 6,
     "metadata": {},
     "output_type": "execute_result"
    }
   ],
   "source": [
    "vaches_dataset['health_status'].value_counts()"
   ]
  },
  {
   "cell_type": "code",
   "execution_count": 7,
   "metadata": {
    "colab": {
     "base_uri": "https://localhost:8080/",
     "height": 143
    },
    "executionInfo": {
     "elapsed": 343,
     "status": "ok",
     "timestamp": 1737309581996,
     "user": {
      "displayName": "Isaac N'cho",
      "userId": "02200303180534399432"
     },
     "user_tz": 0
    },
    "id": "wJDSCbcHZLEh",
    "outputId": "8714f071-47fb-493d-f6ff-af5b0a8ecd27"
   },
   "outputs": [
    {
     "data": {
      "text/html": [
       "<div>\n",
       "<style scoped>\n",
       "    .dataframe tbody tr th:only-of-type {\n",
       "        vertical-align: middle;\n",
       "    }\n",
       "\n",
       "    .dataframe tbody tr th {\n",
       "        vertical-align: top;\n",
       "    }\n",
       "\n",
       "    .dataframe thead th {\n",
       "        text-align: right;\n",
       "    }\n",
       "</style>\n",
       "<table border=\"1\" class=\"dataframe\">\n",
       "  <thead>\n",
       "    <tr style=\"text-align: right;\">\n",
       "      <th></th>\n",
       "      <th>body_temperature</th>\n",
       "      <th>walking_capacity</th>\n",
       "      <th>heart_rate</th>\n",
       "    </tr>\n",
       "    <tr>\n",
       "      <th>health_status</th>\n",
       "      <th></th>\n",
       "      <th></th>\n",
       "      <th></th>\n",
       "    </tr>\n",
       "  </thead>\n",
       "  <tbody>\n",
       "    <tr>\n",
       "      <th>healthy</th>\n",
       "      <td>38.268889</td>\n",
       "      <td>12285.666667</td>\n",
       "      <td>64.133333</td>\n",
       "    </tr>\n",
       "    <tr>\n",
       "      <th>unhealthy</th>\n",
       "      <td>39.770455</td>\n",
       "      <td>6252.909091</td>\n",
       "      <td>43.545455</td>\n",
       "    </tr>\n",
       "  </tbody>\n",
       "</table>\n",
       "</div>"
      ],
      "text/plain": [
       "               body_temperature  walking_capacity  heart_rate\n",
       "health_status                                                \n",
       "healthy               38.268889      12285.666667   64.133333\n",
       "unhealthy             39.770455       6252.909091   43.545455"
      ]
     },
     "execution_count": 7,
     "metadata": {},
     "output_type": "execute_result"
    }
   ],
   "source": [
    "vaches_dataset.groupby('health_status').mean()"
   ]
  },
  {
   "cell_type": "code",
   "execution_count": 8,
   "metadata": {
    "executionInfo": {
     "elapsed": 2,
     "status": "ok",
     "timestamp": 1737309584057,
     "user": {
      "displayName": "Isaac N'cho",
      "userId": "02200303180534399432"
     },
     "user_tz": 0
    },
    "id": "K6LGkyWuZSL8"
   },
   "outputs": [],
   "source": [
    "X = vaches_dataset.drop('health_status', axis=1)  # Toutes les colonnes sauf 'health_status'\n",
    "Y = vaches_dataset['health_status']"
   ]
  },
  {
   "cell_type": "markdown",
   "metadata": {
    "id": "EYPSPw2LZc_i"
   },
   "source": [
    "**Normalisation des données**"
   ]
  },
  {
   "cell_type": "code",
   "execution_count": 9,
   "metadata": {
    "colab": {
     "base_uri": "https://localhost:8080/"
    },
    "executionInfo": {
     "elapsed": 356,
     "status": "ok",
     "timestamp": 1737309587090,
     "user": {
      "displayName": "Isaac N'cho",
      "userId": "02200303180534399432"
     },
     "user_tz": 0
    },
    "id": "kgvcAOfDZf5q",
    "outputId": "c8a12b9e-3f65-4192-8370-99039651ea8e"
   },
   "outputs": [
    {
     "name": "stdout",
     "output_type": "stream",
     "text": [
      "[[-9.32699777e-01  9.69189896e-01 -3.01434168e-01]\n",
      " [-1.27890967e-01  8.31345766e-01  6.13144501e-01]\n",
      " [-4.72809028e-01  1.18261598e+00  1.29907850e+00]\n",
      " [ 5.61945157e-01  8.52409588e-01  1.07043384e+00]\n",
      " [ 7.91890531e-01  3.24884746e-01  6.89359390e-01]\n",
      " [ 1.13680859e+00  1.51226549e-02  4.60714723e-01]\n",
      " [-8.17727090e-01  8.19265044e-01  1.55855167e-01]\n",
      " [-1.16264515e+00  9.14362006e-01 -3.77649057e-01]\n",
      " [-1.04767246e+00  1.22474362e+00 -1.49004390e-01]\n",
      " [-9.32699777e-01  1.15442763e+00  1.55855167e-01]\n",
      " [-8.17727090e-01  1.00914921e+00  6.89359390e-01]\n",
      " [-7.02754403e-01  9.25513441e-01 -3.01434168e-01]\n",
      " [-5.87781716e-01  8.55507209e-01  1.68015295e+00]\n",
      " [-9.32699777e-01  7.28504751e-01 -1.49004390e-01]\n",
      " [-1.16264515e+00  8.88341990e-01  1.68015295e+00]\n",
      " [-8.17727090e-01  9.70738707e-01  3.84499834e-01]\n",
      " [-5.87781716e-01  1.19345765e+00  1.29907850e+00]\n",
      " [-9.32699777e-01  1.03919613e+00 -7.27895008e-02]\n",
      " [-5.87781716e-01  7.83332641e-01  1.07043384e+00]\n",
      " [-1.16264515e+00  5.77340851e-01  1.45150828e+00]\n",
      " [-8.17727090e-01  8.96395805e-01  1.75636784e+00]\n",
      " [-7.02754403e-01  7.61649295e-01  3.42538828e-03]\n",
      " [-1.04767246e+00  8.55816971e-01  4.60714723e-01]\n",
      " [-4.03696233e+00  7.52975956e-01  6.13144501e-01]\n",
      " [-1.04767246e+00  1.05034756e+00  2.06122739e+00]\n",
      " [-7.02754403e-01  1.06862353e+00  2.13744228e+00]\n",
      " [-9.32699777e-01  8.62321975e-01  8.41789169e-01]\n",
      " [ 5.61945157e-01 -7.53087332e-01 -1.21601284e+00]\n",
      " [ 7.91890531e-01 -8.30527854e-01 -9.11153281e-01]\n",
      " [ 6.76917844e-01 -1.10621612e+00 -8.34938392e-01]\n",
      " [ 1.02183591e+00 -1.11674803e+00 -1.13979795e+00]\n",
      " [ 1.36675397e+00 -1.30446385e+00 -6.06293725e-01]\n",
      " [ 9.06863219e-01 -9.82311279e-01 -5.30078836e-01]\n",
      " [ 5.61945157e-01 -7.25208743e-01 -7.58723503e-01]\n",
      " [ 1.13680859e+00 -1.27937312e+00 -1.13979795e+00]\n",
      " [ 5.61945157e-01 -7.99861407e-01 -9.11153281e-01]\n",
      " [ 9.06863219e-01 -9.31510296e-01 -9.11153281e-01]\n",
      " [ 1.25178128e+00 -1.25335311e+00 -1.13979795e+00]\n",
      " [ 1.82664472e+00 -1.28990504e+00 -1.06358306e+00]\n",
      " [ 1.02183591e+00 -1.01731440e+00 -6.82508614e-01]\n",
      " [ 5.61945157e-01 -9.43591018e-01 -6.06293725e-01]\n",
      " [ 7.91890531e-01 -1.16816853e+00 -8.34938392e-01]\n",
      " [ 1.13680859e+00 -1.33172292e+00 -1.29222773e+00]\n",
      " [ 6.76917844e-01 -9.19429575e-01 -5.30078836e-01]\n",
      " [ 9.06863219e-01 -1.04333441e+00 -9.87368170e-01]\n",
      " [ 6.76917844e-01 -8.38891431e-01 -4.53863946e-01]\n",
      " [ 1.48172665e+00 -1.29083432e+00 -5.30078836e-01]\n",
      " [-7.02754403e-01  7.38417138e-01  7.96402774e-02]\n",
      " [-9.32699777e-01  1.03795708e+00  1.55855167e-01]\n",
      " [-1.04767246e+00  1.05127685e+00 -3.77649057e-01]\n",
      " [-8.17727090e-01  1.15256905e+00  6.13144501e-01]\n",
      " [-9.32699777e-01  9.48435836e-01  1.45150828e+00]\n",
      " [-5.87781716e-01  9.56799412e-01  2.06122739e+00]\n",
      " [-7.02754403e-01  8.29796955e-01  1.68015295e+00]\n",
      " [-4.72809028e-01  1.06273805e+00 -2.25219279e-01]\n",
      " [-7.02754403e-01  1.12500023e+00  1.14664873e+00]\n",
      " [-5.87781716e-01  8.67897692e-01  1.37529339e+00]\n",
      " [-1.04767246e+00  8.63251261e-01  2.21365717e+00]\n",
      " [-5.87781716e-01  1.03083255e+00  1.14664873e+00]\n",
      " [-9.32699777e-01  8.14308850e-01  9.94218947e-01]\n",
      " [-8.17727090e-01  5.88492286e-01  6.13144501e-01]\n",
      " [-9.32699777e-01  8.36301959e-01  7.96402774e-02]\n",
      " [-1.16264515e+00  1.07172115e+00  3.42538828e-03]\n",
      " [-1.04767246e+00  9.68880134e-01 -2.25219279e-01]\n",
      " [-7.02754403e-01  1.13677119e+00  3.84499834e-01]\n",
      " [-8.17727090e-01  1.10858284e+00  6.13144501e-01]\n",
      " [-9.32699777e-01  8.45594822e-01  1.75636784e+00]\n",
      " [-5.87781716e-01  8.67278168e-01  1.37529339e+00]\n",
      " [ 5.61945157e-01 -1.32800577e+00 -1.21601284e+00]\n",
      " [ 6.76917844e-01 -1.32924482e+00 -7.58723503e-01]\n",
      " [ 1.13680859e+00 -1.30043695e+00 -9.11153281e-01]\n",
      " [ 7.91890531e-01 -1.13564351e+00 -9.87368170e-01]\n",
      " [ 9.06863219e-01 -1.17405401e+00 -9.87368170e-01]\n",
      " [ 7.91890531e-01 -1.04333441e+00 -5.30078836e-01]\n",
      " [ 6.76917844e-01 -7.99241883e-01 -1.06358306e+00]\n",
      " [ 6.76917844e-01 -9.83550327e-01 -1.13979795e+00]\n",
      " [ 9.06863219e-01 -9.39254348e-01 -1.21601284e+00]\n",
      " [ 1.13680859e+00 -1.21865975e+00 -9.11153281e-01]\n",
      " [ 1.82664472e+00 -9.12614809e-01 -6.82508614e-01]\n",
      " [ 1.02183591e+00 -9.62176743e-01 -8.34938392e-01]\n",
      " [ 5.61945157e-01 -1.04767108e+00 -1.06358306e+00]\n",
      " [ 7.91890531e-01 -1.29362218e+00 -9.87368170e-01]\n",
      " [ 1.13680859e+00 -1.18985188e+00 -7.58723503e-01]\n",
      " [ 6.76917844e-01 -1.28742694e+00 -6.06293725e-01]\n",
      " [ 1.02183591e+00 -7.31403985e-01 -5.30078836e-01]\n",
      " [ 1.36675397e+00 -8.21234992e-01 -9.87368170e-01]\n",
      " [ 9.06863219e-01 -8.04817601e-01 -1.29222773e+00]\n",
      " [ 5.61945157e-01 -9.38944586e-01 -6.82508614e-01]\n",
      " [ 6.76917844e-01 -1.24344072e+00 -9.11153281e-01]\n",
      " [-9.32699777e-01  9.69189896e-01 -3.01434168e-01]\n",
      " [-1.27890967e-01  8.31345766e-01  6.13144501e-01]\n",
      " [-4.72809028e-01  1.18261598e+00  1.29907850e+00]\n",
      " [ 5.61945157e-01  8.52409588e-01  1.07043384e+00]\n",
      " [ 7.91890531e-01  3.24884746e-01  6.89359390e-01]\n",
      " [ 1.13680859e+00  1.51226549e-02  4.60714723e-01]\n",
      " [-8.17727090e-01  8.19265044e-01  1.55855167e-01]\n",
      " [-1.16264515e+00  9.14362006e-01 -3.77649057e-01]\n",
      " [-1.04767246e+00  1.22474362e+00 -1.49004390e-01]\n",
      " [-9.32699777e-01  1.15442763e+00  1.55855167e-01]\n",
      " [-8.17727090e-01  1.00914921e+00  6.89359390e-01]\n",
      " [-7.02754403e-01  9.25513441e-01 -3.01434168e-01]\n",
      " [-5.87781716e-01  8.55507209e-01  1.68015295e+00]\n",
      " [-9.32699777e-01  7.28504751e-01 -1.49004390e-01]\n",
      " [-1.16264515e+00  8.88341990e-01  1.68015295e+00]\n",
      " [-8.17727090e-01  9.70738707e-01  3.84499834e-01]\n",
      " [-5.87781716e-01  1.19345765e+00  1.29907850e+00]\n",
      " [-9.32699777e-01  1.03919613e+00 -7.27895008e-02]\n",
      " [-5.87781716e-01  7.83332641e-01  1.07043384e+00]\n",
      " [-1.16264515e+00  5.77340851e-01  1.45150828e+00]\n",
      " [-8.17727090e-01  8.96395805e-01  1.75636784e+00]\n",
      " [-7.02754403e-01  7.61649295e-01  3.42538828e-03]\n",
      " [-1.04767246e+00  8.55816971e-01  4.60714723e-01]\n",
      " [-4.03696233e+00  7.52975956e-01  6.13144501e-01]\n",
      " [-1.04767246e+00  1.05034756e+00  2.06122739e+00]\n",
      " [-7.02754403e-01  1.06862353e+00  2.13744228e+00]\n",
      " [-9.32699777e-01  8.62321975e-01  8.41789169e-01]\n",
      " [ 5.61945157e-01 -7.53087332e-01 -1.21601284e+00]\n",
      " [ 7.91890531e-01 -8.30527854e-01 -9.11153281e-01]\n",
      " [ 6.76917844e-01 -1.10621612e+00 -8.34938392e-01]\n",
      " [ 1.02183591e+00 -1.11674803e+00 -1.13979795e+00]\n",
      " [ 1.36675397e+00 -1.30446385e+00 -6.06293725e-01]\n",
      " [ 9.06863219e-01 -9.82311279e-01 -5.30078836e-01]\n",
      " [ 5.61945157e-01 -7.25208743e-01 -7.58723503e-01]\n",
      " [ 1.13680859e+00 -1.27937312e+00 -1.13979795e+00]\n",
      " [ 5.61945157e-01 -7.99861407e-01 -9.11153281e-01]\n",
      " [ 9.06863219e-01 -9.31510296e-01 -9.11153281e-01]\n",
      " [ 1.25178128e+00 -1.25335311e+00 -1.13979795e+00]\n",
      " [ 1.82664472e+00 -1.28990504e+00 -1.06358306e+00]\n",
      " [ 1.02183591e+00 -1.01731440e+00 -6.82508614e-01]\n",
      " [ 5.61945157e-01 -9.43591018e-01 -6.06293725e-01]\n",
      " [ 7.91890531e-01 -1.16816853e+00 -8.34938392e-01]\n",
      " [ 1.13680859e+00 -1.33172292e+00 -1.29222773e+00]\n",
      " [ 6.76917844e-01 -9.19429575e-01 -5.30078836e-01]\n",
      " [ 9.06863219e-01 -1.04333441e+00 -9.87368170e-01]\n",
      " [ 6.76917844e-01 -8.38891431e-01 -4.53863946e-01]\n",
      " [ 1.48172665e+00 -1.29083432e+00 -5.30078836e-01]\n",
      " [-7.02754403e-01  7.38417138e-01  7.96402774e-02]\n",
      " [-9.32699777e-01  1.03795708e+00  1.55855167e-01]\n",
      " [-1.04767246e+00  1.05127685e+00 -3.77649057e-01]\n",
      " [-8.17727090e-01  1.15256905e+00  6.13144501e-01]\n",
      " [-9.32699777e-01  9.48435836e-01  1.45150828e+00]\n",
      " [-5.87781716e-01  9.56799412e-01  2.06122739e+00]\n",
      " [-7.02754403e-01  8.29796955e-01  1.68015295e+00]\n",
      " [-4.72809028e-01  1.06273805e+00 -2.25219279e-01]\n",
      " [-7.02754403e-01  1.12500023e+00  1.14664873e+00]\n",
      " [-5.87781716e-01  8.67897692e-01  1.37529339e+00]\n",
      " [-1.04767246e+00  8.63251261e-01  2.21365717e+00]\n",
      " [-5.87781716e-01  1.03083255e+00  1.14664873e+00]\n",
      " [-9.32699777e-01  8.14308850e-01  9.94218947e-01]\n",
      " [-8.17727090e-01  5.88492286e-01  6.13144501e-01]\n",
      " [-9.32699777e-01  8.36301959e-01  7.96402774e-02]\n",
      " [-1.16264515e+00  1.07172115e+00  3.42538828e-03]\n",
      " [-1.04767246e+00  9.68880134e-01 -2.25219279e-01]\n",
      " [-7.02754403e-01  1.13677119e+00  3.84499834e-01]\n",
      " [-8.17727090e-01  1.10858284e+00  6.13144501e-01]\n",
      " [-9.32699777e-01  8.45594822e-01  1.75636784e+00]\n",
      " [-5.87781716e-01  8.67278168e-01  1.37529339e+00]\n",
      " [ 5.61945157e-01 -1.32800577e+00 -1.21601284e+00]\n",
      " [ 6.76917844e-01 -1.32924482e+00 -7.58723503e-01]\n",
      " [ 1.13680859e+00 -1.30043695e+00 -9.11153281e-01]\n",
      " [ 7.91890531e-01 -1.13564351e+00 -9.87368170e-01]\n",
      " [ 9.06863219e-01 -1.17405401e+00 -9.87368170e-01]\n",
      " [ 7.91890531e-01 -1.04333441e+00 -5.30078836e-01]\n",
      " [ 6.76917844e-01 -7.99241883e-01 -1.06358306e+00]\n",
      " [ 6.76917844e-01 -9.83550327e-01 -1.13979795e+00]\n",
      " [ 9.06863219e-01 -9.39254348e-01 -1.21601284e+00]\n",
      " [ 1.13680859e+00 -1.21865975e+00 -9.11153281e-01]\n",
      " [ 1.82664472e+00 -9.12614809e-01 -6.82508614e-01]\n",
      " [ 1.02183591e+00 -9.62176743e-01 -8.34938392e-01]\n",
      " [ 5.61945157e-01 -1.04767108e+00 -1.06358306e+00]\n",
      " [ 7.91890531e-01 -1.29362218e+00 -9.87368170e-01]\n",
      " [ 1.13680859e+00 -1.18985188e+00 -7.58723503e-01]\n",
      " [ 6.76917844e-01 -1.28742694e+00 -6.06293725e-01]\n",
      " [ 1.02183591e+00 -7.31403985e-01 -5.30078836e-01]\n",
      " [ 1.36675397e+00 -8.21234992e-01 -9.87368170e-01]\n",
      " [ 9.06863219e-01 -8.04817601e-01 -1.29222773e+00]\n",
      " [ 5.61945157e-01 -9.38944586e-01 -6.82508614e-01]\n",
      " [ 6.76917844e-01 -1.24344072e+00 -9.11153281e-01]]\n"
     ]
    }
   ],
   "source": [
    "scaler = StandardScaler()\n",
    "scaler.fit(X)\n",
    "standardized_data = scaler.transform(X)\n",
    "print(standardized_data)"
   ]
  },
  {
   "cell_type": "markdown",
   "metadata": {
    "id": "lGbcVtChZvZI"
   },
   "source": [
    "**Entrainement - Test - Découpage**"
   ]
  },
  {
   "cell_type": "code",
   "execution_count": 10,
   "metadata": {
    "executionInfo": {
     "elapsed": 325,
     "status": "ok",
     "timestamp": 1737309828511,
     "user": {
      "displayName": "Isaac N'cho",
      "userId": "02200303180534399432"
     },
     "user_tz": 0
    },
    "id": "5QNlW7OlZtlA"
   },
   "outputs": [],
   "source": [
    "X_train, X_test, Y_train, Y_test = train_test_split(standardized_data, Y, test_size=0.2, stratify=Y, random_state=42)"
   ]
  },
  {
   "cell_type": "code",
   "execution_count": 11,
   "metadata": {
    "colab": {
     "base_uri": "https://localhost:8080/"
    },
    "executionInfo": {
     "elapsed": 349,
     "status": "ok",
     "timestamp": 1737309830481,
     "user": {
      "displayName": "Isaac N'cho",
      "userId": "02200303180534399432"
     },
     "user_tz": 0
    },
    "id": "K7xCk7dNaD4p",
    "outputId": "4dd642fb-809f-4cc2-b627-cfc447f8a324"
   },
   "outputs": [
    {
     "name": "stdout",
     "output_type": "stream",
     "text": [
      "(178, 3) (142, 3) (36, 3)\n"
     ]
    }
   ],
   "source": [
    "print(X.shape, X_train.shape, X_test.shape)"
   ]
  },
  {
   "cell_type": "markdown",
   "metadata": {
    "id": "_8UI8Jd-aIyb"
   },
   "source": [
    "**Entraînement du modèle**"
   ]
  },
  {
   "cell_type": "code",
   "execution_count": 12,
   "metadata": {
    "colab": {
     "base_uri": "https://localhost:8080/",
     "height": 80
    },
    "executionInfo": {
     "elapsed": 367,
     "status": "ok",
     "timestamp": 1737309832599,
     "user": {
      "displayName": "Isaac N'cho",
      "userId": "02200303180534399432"
     },
     "user_tz": 0
    },
    "id": "BcqAX-hFaL38",
    "outputId": "d123c643-6644-4ca3-eda6-2b3195cf6491"
   },
   "outputs": [
    {
     "data": {
      "text/html": [
       "<style>#sk-container-id-1 {\n",
       "  /* Definition of color scheme common for light and dark mode */\n",
       "  --sklearn-color-text: #000;\n",
       "  --sklearn-color-text-muted: #666;\n",
       "  --sklearn-color-line: gray;\n",
       "  /* Definition of color scheme for unfitted estimators */\n",
       "  --sklearn-color-unfitted-level-0: #fff5e6;\n",
       "  --sklearn-color-unfitted-level-1: #f6e4d2;\n",
       "  --sklearn-color-unfitted-level-2: #ffe0b3;\n",
       "  --sklearn-color-unfitted-level-3: chocolate;\n",
       "  /* Definition of color scheme for fitted estimators */\n",
       "  --sklearn-color-fitted-level-0: #f0f8ff;\n",
       "  --sklearn-color-fitted-level-1: #d4ebff;\n",
       "  --sklearn-color-fitted-level-2: #b3dbfd;\n",
       "  --sklearn-color-fitted-level-3: cornflowerblue;\n",
       "\n",
       "  /* Specific color for light theme */\n",
       "  --sklearn-color-text-on-default-background: var(--sg-text-color, var(--theme-code-foreground, var(--jp-content-font-color1, black)));\n",
       "  --sklearn-color-background: var(--sg-background-color, var(--theme-background, var(--jp-layout-color0, white)));\n",
       "  --sklearn-color-border-box: var(--sg-text-color, var(--theme-code-foreground, var(--jp-content-font-color1, black)));\n",
       "  --sklearn-color-icon: #696969;\n",
       "\n",
       "  @media (prefers-color-scheme: dark) {\n",
       "    /* Redefinition of color scheme for dark theme */\n",
       "    --sklearn-color-text-on-default-background: var(--sg-text-color, var(--theme-code-foreground, var(--jp-content-font-color1, white)));\n",
       "    --sklearn-color-background: var(--sg-background-color, var(--theme-background, var(--jp-layout-color0, #111)));\n",
       "    --sklearn-color-border-box: var(--sg-text-color, var(--theme-code-foreground, var(--jp-content-font-color1, white)));\n",
       "    --sklearn-color-icon: #878787;\n",
       "  }\n",
       "}\n",
       "\n",
       "#sk-container-id-1 {\n",
       "  color: var(--sklearn-color-text);\n",
       "}\n",
       "\n",
       "#sk-container-id-1 pre {\n",
       "  padding: 0;\n",
       "}\n",
       "\n",
       "#sk-container-id-1 input.sk-hidden--visually {\n",
       "  border: 0;\n",
       "  clip: rect(1px 1px 1px 1px);\n",
       "  clip: rect(1px, 1px, 1px, 1px);\n",
       "  height: 1px;\n",
       "  margin: -1px;\n",
       "  overflow: hidden;\n",
       "  padding: 0;\n",
       "  position: absolute;\n",
       "  width: 1px;\n",
       "}\n",
       "\n",
       "#sk-container-id-1 div.sk-dashed-wrapped {\n",
       "  border: 1px dashed var(--sklearn-color-line);\n",
       "  margin: 0 0.4em 0.5em 0.4em;\n",
       "  box-sizing: border-box;\n",
       "  padding-bottom: 0.4em;\n",
       "  background-color: var(--sklearn-color-background);\n",
       "}\n",
       "\n",
       "#sk-container-id-1 div.sk-container {\n",
       "  /* jupyter's `normalize.less` sets `[hidden] { display: none; }`\n",
       "     but bootstrap.min.css set `[hidden] { display: none !important; }`\n",
       "     so we also need the `!important` here to be able to override the\n",
       "     default hidden behavior on the sphinx rendered scikit-learn.org.\n",
       "     See: https://github.com/scikit-learn/scikit-learn/issues/21755 */\n",
       "  display: inline-block !important;\n",
       "  position: relative;\n",
       "}\n",
       "\n",
       "#sk-container-id-1 div.sk-text-repr-fallback {\n",
       "  display: none;\n",
       "}\n",
       "\n",
       "div.sk-parallel-item,\n",
       "div.sk-serial,\n",
       "div.sk-item {\n",
       "  /* draw centered vertical line to link estimators */\n",
       "  background-image: linear-gradient(var(--sklearn-color-text-on-default-background), var(--sklearn-color-text-on-default-background));\n",
       "  background-size: 2px 100%;\n",
       "  background-repeat: no-repeat;\n",
       "  background-position: center center;\n",
       "}\n",
       "\n",
       "/* Parallel-specific style estimator block */\n",
       "\n",
       "#sk-container-id-1 div.sk-parallel-item::after {\n",
       "  content: \"\";\n",
       "  width: 100%;\n",
       "  border-bottom: 2px solid var(--sklearn-color-text-on-default-background);\n",
       "  flex-grow: 1;\n",
       "}\n",
       "\n",
       "#sk-container-id-1 div.sk-parallel {\n",
       "  display: flex;\n",
       "  align-items: stretch;\n",
       "  justify-content: center;\n",
       "  background-color: var(--sklearn-color-background);\n",
       "  position: relative;\n",
       "}\n",
       "\n",
       "#sk-container-id-1 div.sk-parallel-item {\n",
       "  display: flex;\n",
       "  flex-direction: column;\n",
       "}\n",
       "\n",
       "#sk-container-id-1 div.sk-parallel-item:first-child::after {\n",
       "  align-self: flex-end;\n",
       "  width: 50%;\n",
       "}\n",
       "\n",
       "#sk-container-id-1 div.sk-parallel-item:last-child::after {\n",
       "  align-self: flex-start;\n",
       "  width: 50%;\n",
       "}\n",
       "\n",
       "#sk-container-id-1 div.sk-parallel-item:only-child::after {\n",
       "  width: 0;\n",
       "}\n",
       "\n",
       "/* Serial-specific style estimator block */\n",
       "\n",
       "#sk-container-id-1 div.sk-serial {\n",
       "  display: flex;\n",
       "  flex-direction: column;\n",
       "  align-items: center;\n",
       "  background-color: var(--sklearn-color-background);\n",
       "  padding-right: 1em;\n",
       "  padding-left: 1em;\n",
       "}\n",
       "\n",
       "\n",
       "/* Toggleable style: style used for estimator/Pipeline/ColumnTransformer box that is\n",
       "clickable and can be expanded/collapsed.\n",
       "- Pipeline and ColumnTransformer use this feature and define the default style\n",
       "- Estimators will overwrite some part of the style using the `sk-estimator` class\n",
       "*/\n",
       "\n",
       "/* Pipeline and ColumnTransformer style (default) */\n",
       "\n",
       "#sk-container-id-1 div.sk-toggleable {\n",
       "  /* Default theme specific background. It is overwritten whether we have a\n",
       "  specific estimator or a Pipeline/ColumnTransformer */\n",
       "  background-color: var(--sklearn-color-background);\n",
       "}\n",
       "\n",
       "/* Toggleable label */\n",
       "#sk-container-id-1 label.sk-toggleable__label {\n",
       "  cursor: pointer;\n",
       "  display: flex;\n",
       "  width: 100%;\n",
       "  margin-bottom: 0;\n",
       "  padding: 0.5em;\n",
       "  box-sizing: border-box;\n",
       "  text-align: center;\n",
       "  align-items: start;\n",
       "  justify-content: space-between;\n",
       "  gap: 0.5em;\n",
       "}\n",
       "\n",
       "#sk-container-id-1 label.sk-toggleable__label .caption {\n",
       "  font-size: 0.6rem;\n",
       "  font-weight: lighter;\n",
       "  color: var(--sklearn-color-text-muted);\n",
       "}\n",
       "\n",
       "#sk-container-id-1 label.sk-toggleable__label-arrow:before {\n",
       "  /* Arrow on the left of the label */\n",
       "  content: \"▸\";\n",
       "  float: left;\n",
       "  margin-right: 0.25em;\n",
       "  color: var(--sklearn-color-icon);\n",
       "}\n",
       "\n",
       "#sk-container-id-1 label.sk-toggleable__label-arrow:hover:before {\n",
       "  color: var(--sklearn-color-text);\n",
       "}\n",
       "\n",
       "/* Toggleable content - dropdown */\n",
       "\n",
       "#sk-container-id-1 div.sk-toggleable__content {\n",
       "  max-height: 0;\n",
       "  max-width: 0;\n",
       "  overflow: hidden;\n",
       "  text-align: left;\n",
       "  /* unfitted */\n",
       "  background-color: var(--sklearn-color-unfitted-level-0);\n",
       "}\n",
       "\n",
       "#sk-container-id-1 div.sk-toggleable__content.fitted {\n",
       "  /* fitted */\n",
       "  background-color: var(--sklearn-color-fitted-level-0);\n",
       "}\n",
       "\n",
       "#sk-container-id-1 div.sk-toggleable__content pre {\n",
       "  margin: 0.2em;\n",
       "  border-radius: 0.25em;\n",
       "  color: var(--sklearn-color-text);\n",
       "  /* unfitted */\n",
       "  background-color: var(--sklearn-color-unfitted-level-0);\n",
       "}\n",
       "\n",
       "#sk-container-id-1 div.sk-toggleable__content.fitted pre {\n",
       "  /* unfitted */\n",
       "  background-color: var(--sklearn-color-fitted-level-0);\n",
       "}\n",
       "\n",
       "#sk-container-id-1 input.sk-toggleable__control:checked~div.sk-toggleable__content {\n",
       "  /* Expand drop-down */\n",
       "  max-height: 200px;\n",
       "  max-width: 100%;\n",
       "  overflow: auto;\n",
       "}\n",
       "\n",
       "#sk-container-id-1 input.sk-toggleable__control:checked~label.sk-toggleable__label-arrow:before {\n",
       "  content: \"▾\";\n",
       "}\n",
       "\n",
       "/* Pipeline/ColumnTransformer-specific style */\n",
       "\n",
       "#sk-container-id-1 div.sk-label input.sk-toggleable__control:checked~label.sk-toggleable__label {\n",
       "  color: var(--sklearn-color-text);\n",
       "  background-color: var(--sklearn-color-unfitted-level-2);\n",
       "}\n",
       "\n",
       "#sk-container-id-1 div.sk-label.fitted input.sk-toggleable__control:checked~label.sk-toggleable__label {\n",
       "  background-color: var(--sklearn-color-fitted-level-2);\n",
       "}\n",
       "\n",
       "/* Estimator-specific style */\n",
       "\n",
       "/* Colorize estimator box */\n",
       "#sk-container-id-1 div.sk-estimator input.sk-toggleable__control:checked~label.sk-toggleable__label {\n",
       "  /* unfitted */\n",
       "  background-color: var(--sklearn-color-unfitted-level-2);\n",
       "}\n",
       "\n",
       "#sk-container-id-1 div.sk-estimator.fitted input.sk-toggleable__control:checked~label.sk-toggleable__label {\n",
       "  /* fitted */\n",
       "  background-color: var(--sklearn-color-fitted-level-2);\n",
       "}\n",
       "\n",
       "#sk-container-id-1 div.sk-label label.sk-toggleable__label,\n",
       "#sk-container-id-1 div.sk-label label {\n",
       "  /* The background is the default theme color */\n",
       "  color: var(--sklearn-color-text-on-default-background);\n",
       "}\n",
       "\n",
       "/* On hover, darken the color of the background */\n",
       "#sk-container-id-1 div.sk-label:hover label.sk-toggleable__label {\n",
       "  color: var(--sklearn-color-text);\n",
       "  background-color: var(--sklearn-color-unfitted-level-2);\n",
       "}\n",
       "\n",
       "/* Label box, darken color on hover, fitted */\n",
       "#sk-container-id-1 div.sk-label.fitted:hover label.sk-toggleable__label.fitted {\n",
       "  color: var(--sklearn-color-text);\n",
       "  background-color: var(--sklearn-color-fitted-level-2);\n",
       "}\n",
       "\n",
       "/* Estimator label */\n",
       "\n",
       "#sk-container-id-1 div.sk-label label {\n",
       "  font-family: monospace;\n",
       "  font-weight: bold;\n",
       "  display: inline-block;\n",
       "  line-height: 1.2em;\n",
       "}\n",
       "\n",
       "#sk-container-id-1 div.sk-label-container {\n",
       "  text-align: center;\n",
       "}\n",
       "\n",
       "/* Estimator-specific */\n",
       "#sk-container-id-1 div.sk-estimator {\n",
       "  font-family: monospace;\n",
       "  border: 1px dotted var(--sklearn-color-border-box);\n",
       "  border-radius: 0.25em;\n",
       "  box-sizing: border-box;\n",
       "  margin-bottom: 0.5em;\n",
       "  /* unfitted */\n",
       "  background-color: var(--sklearn-color-unfitted-level-0);\n",
       "}\n",
       "\n",
       "#sk-container-id-1 div.sk-estimator.fitted {\n",
       "  /* fitted */\n",
       "  background-color: var(--sklearn-color-fitted-level-0);\n",
       "}\n",
       "\n",
       "/* on hover */\n",
       "#sk-container-id-1 div.sk-estimator:hover {\n",
       "  /* unfitted */\n",
       "  background-color: var(--sklearn-color-unfitted-level-2);\n",
       "}\n",
       "\n",
       "#sk-container-id-1 div.sk-estimator.fitted:hover {\n",
       "  /* fitted */\n",
       "  background-color: var(--sklearn-color-fitted-level-2);\n",
       "}\n",
       "\n",
       "/* Specification for estimator info (e.g. \"i\" and \"?\") */\n",
       "\n",
       "/* Common style for \"i\" and \"?\" */\n",
       "\n",
       ".sk-estimator-doc-link,\n",
       "a:link.sk-estimator-doc-link,\n",
       "a:visited.sk-estimator-doc-link {\n",
       "  float: right;\n",
       "  font-size: smaller;\n",
       "  line-height: 1em;\n",
       "  font-family: monospace;\n",
       "  background-color: var(--sklearn-color-background);\n",
       "  border-radius: 1em;\n",
       "  height: 1em;\n",
       "  width: 1em;\n",
       "  text-decoration: none !important;\n",
       "  margin-left: 0.5em;\n",
       "  text-align: center;\n",
       "  /* unfitted */\n",
       "  border: var(--sklearn-color-unfitted-level-1) 1pt solid;\n",
       "  color: var(--sklearn-color-unfitted-level-1);\n",
       "}\n",
       "\n",
       ".sk-estimator-doc-link.fitted,\n",
       "a:link.sk-estimator-doc-link.fitted,\n",
       "a:visited.sk-estimator-doc-link.fitted {\n",
       "  /* fitted */\n",
       "  border: var(--sklearn-color-fitted-level-1) 1pt solid;\n",
       "  color: var(--sklearn-color-fitted-level-1);\n",
       "}\n",
       "\n",
       "/* On hover */\n",
       "div.sk-estimator:hover .sk-estimator-doc-link:hover,\n",
       ".sk-estimator-doc-link:hover,\n",
       "div.sk-label-container:hover .sk-estimator-doc-link:hover,\n",
       ".sk-estimator-doc-link:hover {\n",
       "  /* unfitted */\n",
       "  background-color: var(--sklearn-color-unfitted-level-3);\n",
       "  color: var(--sklearn-color-background);\n",
       "  text-decoration: none;\n",
       "}\n",
       "\n",
       "div.sk-estimator.fitted:hover .sk-estimator-doc-link.fitted:hover,\n",
       ".sk-estimator-doc-link.fitted:hover,\n",
       "div.sk-label-container:hover .sk-estimator-doc-link.fitted:hover,\n",
       ".sk-estimator-doc-link.fitted:hover {\n",
       "  /* fitted */\n",
       "  background-color: var(--sklearn-color-fitted-level-3);\n",
       "  color: var(--sklearn-color-background);\n",
       "  text-decoration: none;\n",
       "}\n",
       "\n",
       "/* Span, style for the box shown on hovering the info icon */\n",
       ".sk-estimator-doc-link span {\n",
       "  display: none;\n",
       "  z-index: 9999;\n",
       "  position: relative;\n",
       "  font-weight: normal;\n",
       "  right: .2ex;\n",
       "  padding: .5ex;\n",
       "  margin: .5ex;\n",
       "  width: min-content;\n",
       "  min-width: 20ex;\n",
       "  max-width: 50ex;\n",
       "  color: var(--sklearn-color-text);\n",
       "  box-shadow: 2pt 2pt 4pt #999;\n",
       "  /* unfitted */\n",
       "  background: var(--sklearn-color-unfitted-level-0);\n",
       "  border: .5pt solid var(--sklearn-color-unfitted-level-3);\n",
       "}\n",
       "\n",
       ".sk-estimator-doc-link.fitted span {\n",
       "  /* fitted */\n",
       "  background: var(--sklearn-color-fitted-level-0);\n",
       "  border: var(--sklearn-color-fitted-level-3);\n",
       "}\n",
       "\n",
       ".sk-estimator-doc-link:hover span {\n",
       "  display: block;\n",
       "}\n",
       "\n",
       "/* \"?\"-specific style due to the `<a>` HTML tag */\n",
       "\n",
       "#sk-container-id-1 a.estimator_doc_link {\n",
       "  float: right;\n",
       "  font-size: 1rem;\n",
       "  line-height: 1em;\n",
       "  font-family: monospace;\n",
       "  background-color: var(--sklearn-color-background);\n",
       "  border-radius: 1rem;\n",
       "  height: 1rem;\n",
       "  width: 1rem;\n",
       "  text-decoration: none;\n",
       "  /* unfitted */\n",
       "  color: var(--sklearn-color-unfitted-level-1);\n",
       "  border: var(--sklearn-color-unfitted-level-1) 1pt solid;\n",
       "}\n",
       "\n",
       "#sk-container-id-1 a.estimator_doc_link.fitted {\n",
       "  /* fitted */\n",
       "  border: var(--sklearn-color-fitted-level-1) 1pt solid;\n",
       "  color: var(--sklearn-color-fitted-level-1);\n",
       "}\n",
       "\n",
       "/* On hover */\n",
       "#sk-container-id-1 a.estimator_doc_link:hover {\n",
       "  /* unfitted */\n",
       "  background-color: var(--sklearn-color-unfitted-level-3);\n",
       "  color: var(--sklearn-color-background);\n",
       "  text-decoration: none;\n",
       "}\n",
       "\n",
       "#sk-container-id-1 a.estimator_doc_link.fitted:hover {\n",
       "  /* fitted */\n",
       "  background-color: var(--sklearn-color-fitted-level-3);\n",
       "}\n",
       "</style><div id=\"sk-container-id-1\" class=\"sk-top-container\"><div class=\"sk-text-repr-fallback\"><pre>SVC()</pre><b>In a Jupyter environment, please rerun this cell to show the HTML representation or trust the notebook. <br />On GitHub, the HTML representation is unable to render, please try loading this page with nbviewer.org.</b></div><div class=\"sk-container\" hidden><div class=\"sk-item\"><div class=\"sk-estimator fitted sk-toggleable\"><input class=\"sk-toggleable__control sk-hidden--visually\" id=\"sk-estimator-id-1\" type=\"checkbox\" checked><label for=\"sk-estimator-id-1\" class=\"sk-toggleable__label fitted sk-toggleable__label-arrow\"><div><div>SVC</div></div><div><a class=\"sk-estimator-doc-link fitted\" rel=\"noreferrer\" target=\"_blank\" href=\"https://scikit-learn.org/1.6/modules/generated/sklearn.svm.SVC.html\">?<span>Documentation for SVC</span></a><span class=\"sk-estimator-doc-link fitted\">i<span>Fitted</span></span></div></label><div class=\"sk-toggleable__content fitted\"><pre>SVC()</pre></div> </div></div></div></div>"
      ],
      "text/plain": [
       "SVC()"
      ]
     },
     "execution_count": 12,
     "metadata": {},
     "output_type": "execute_result"
    }
   ],
   "source": [
    "classifier = svm.SVC(kernel='rbf')\n",
    "classifier.fit(X_train, Y_train)"
   ]
  },
  {
   "cell_type": "markdown",
   "metadata": {
    "id": "8ylDahKsagg9"
   },
   "source": [
    "**Evaluation du modèle**"
   ]
  },
  {
   "cell_type": "code",
   "execution_count": 13,
   "metadata": {
    "colab": {
     "base_uri": "https://localhost:8080/"
    },
    "executionInfo": {
     "elapsed": 365,
     "status": "ok",
     "timestamp": 1737309835664,
     "user": {
      "displayName": "Isaac N'cho",
      "userId": "02200303180534399432"
     },
     "user_tz": 0
    },
    "id": "cU8I0-lmbsaq",
    "outputId": "3d4e6be4-a8e2-4cbf-bd4e-c316e901041c"
   },
   "outputs": [
    {
     "name": "stdout",
     "output_type": "stream",
     "text": [
      "Accuracy score of the training data :  0.9859154929577465\n"
     ]
    }
   ],
   "source": [
    "X_train_prediction = classifier.predict(X_train)\n",
    "training_data_accuracy = accuracy_score(X_train_prediction, Y_train)\n",
    "print('Accuracy score of the training data : ', training_data_accuracy)"
   ]
  },
  {
   "cell_type": "code",
   "execution_count": 14,
   "metadata": {
    "colab": {
     "base_uri": "https://localhost:8080/"
    },
    "executionInfo": {
     "elapsed": 342,
     "status": "ok",
     "timestamp": 1737309838520,
     "user": {
      "displayName": "Isaac N'cho",
      "userId": "02200303180534399432"
     },
     "user_tz": 0
    },
    "id": "i3wZ_0uJbwBo",
    "outputId": "bf311706-51e1-4c2b-9141-648c0178ae98"
   },
   "outputs": [
    {
     "name": "stdout",
     "output_type": "stream",
     "text": [
      "Accuracy score of the test data :  0.9444444444444444\n"
     ]
    }
   ],
   "source": [
    "X_test_prediction = classifier.predict(X_test)\n",
    "test_data_accuracy = accuracy_score(X_test_prediction, Y_test)\n",
    "print('Accuracy score of the test data : ', test_data_accuracy)"
   ]
  },
  {
   "cell_type": "markdown",
   "metadata": {
    "id": "n9KKfwuni0lI"
   },
   "source": [
    "**Mise en place d'un système de prédiction**"
   ]
  },
  {
   "cell_type": "code",
   "execution_count": 17,
   "metadata": {
    "colab": {
     "base_uri": "https://localhost:8080/"
    },
    "executionInfo": {
     "elapsed": 355,
     "status": "ok",
     "timestamp": 1737310420439,
     "user": {
      "displayName": "Isaac N'cho",
      "userId": "02200303180534399432"
     },
     "user_tz": 0
    },
    "id": "5_PMzibGi4qG",
    "outputId": "197dd19a-12ea-47f7-8e89-b313ba018dce"
   },
   "outputs": [
    {
     "name": "stdout",
     "output_type": "stream",
     "text": [
      "[[-0.93269978  1.03919613 -0.0727895 ]]\n",
      "['healthy']\n"
     ]
    },
    {
     "name": "stderr",
     "output_type": "stream",
     "text": [
      "c:\\Users\\DPcomputer\\Desktop\\P_DOC\\PYTHON\\APP\\Smart_Cattle\\IA\\.venv\\lib\\site-packages\\sklearn\\utils\\validation.py:2739: UserWarning: X does not have valid feature names, but StandardScaler was fitted with feature names\n",
      "  warnings.warn(\n"
     ]
    }
   ],
   "source": [
    "input_data = (38.2,12658,53)\n",
    "\n",
    "input_data_as_numpy_array = np.asarray(input_data)\n",
    "\n",
    "input_data_reshaped = input_data_as_numpy_array.reshape(1,-1)\n",
    "\n",
    "std_data = scaler.transform(input_data_reshaped)\n",
    "print(std_data)\n",
    "\n",
    "prediction = classifier.predict(std_data)\n",
    "print(prediction)\n",
    "\n",
    "# if prediction[0] == 0:\n",
    "#   print('La vache est en bonne santé')\n",
    "# else:\n",
    "#   print('La vache est malade')"
   ]
  },
  {
   "cell_type": "markdown",
   "metadata": {
    "id": "riVfpQOzwZpG"
   },
   "source": [
    "**Sauvegarde du modèle**"
   ]
  },
  {
   "cell_type": "code",
   "execution_count": 20,
   "metadata": {
    "colab": {
     "base_uri": "https://localhost:8080/"
    },
    "executionInfo": {
     "elapsed": 365,
     "status": "ok",
     "timestamp": 1737310194051,
     "user": {
      "displayName": "Isaac N'cho",
      "userId": "02200303180534399432"
     },
     "user_tz": 0
    },
    "id": "SX3T-hPgwbuD",
    "outputId": "1ab0e972-21d6-4b1b-aa0a-52048844e82c"
   },
   "outputs": [
    {
     "data": {
      "text/plain": [
       "['models/scaler.pkl']"
      ]
     },
     "execution_count": 20,
     "metadata": {},
     "output_type": "execute_result"
    }
   ],
   "source": [
    "import joblib\n",
    "# Supposons que classifier est votre modèle\n",
    "joblib.dump(classifier, 'models/model.pkl')\n",
    "joblib.dump(scaler, 'models/scaler.pkl')  # Si vous utilisez un scaler\n"
   ]
  }
 ],
 "metadata": {
  "colab": {
   "authorship_tag": "ABX9TyMuKHoG3AdlUTQJ8utLKPdL",
   "provenance": []
  },
  "kernelspec": {
   "display_name": ".venv",
   "language": "python",
   "name": "python3"
  },
  "language_info": {
   "codemirror_mode": {
    "name": "ipython",
    "version": 3
   },
   "file_extension": ".py",
   "mimetype": "text/x-python",
   "name": "python",
   "nbconvert_exporter": "python",
   "pygments_lexer": "ipython3",
   "version": "3.9.13"
  }
 },
 "nbformat": 4,
 "nbformat_minor": 0
}
